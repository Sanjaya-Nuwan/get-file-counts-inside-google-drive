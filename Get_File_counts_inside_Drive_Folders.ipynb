{
  "cells": [
    {
      "cell_type": "code",
      "execution_count": null,
      "metadata": {
        "colab": {
          "base_uri": "https://localhost:8080/"
        },
        "collapsed": true,
        "id": "kxbgExR9bgtK",
        "outputId": "97489867-bcd3-41df-ab72-21b2bac4d1fc"
      },
      "outputs": [
        {
          "output_type": "stream",
          "name": "stdout",
          "text": [
            "Mounted at /content/drive\n"
          ]
        }
      ],
      "source": [
        "import os\n",
        "from collections import defaultdict\n",
        "from google.colab import drive\n",
        "drive.mount('/content/drive')\n",
        "base_directory = '/content/drive/MyDrive/'\n",
        "\n",
        "def count_files_by_extension(base_dir):\n",
        "    folder_count = 0\n",
        "    total_file_count = 0\n",
        "    file_count_by_extension = defaultdict(int)\n",
        "    file_count_by_folder = defaultdict(lambda: defaultdict(int))\n",
        "\n",
        "    for root, dirs, files in os.walk(base_dir):\n",
        "        folder_count += 1\n",
        "        total_file_count += len(files)\n",
        "\n",
        "        # Count files by extension\n",
        "        for file in files:\n",
        "            _, ext = os.path.splitext(file)\n",
        "            ext = ext.lower()\n",
        "            file_count_by_extension[ext] += 1\n",
        "            file_count_by_folder[root][ext] += 1\n",
        "\n",
        "    return folder_count, total_file_count, file_count_by_extension, file_count_by_folder\n"
      ]
    },
    {
      "cell_type": "code",
      "execution_count": null,
      "metadata": {
        "id": "EpIGq-kyiVMQ"
      },
      "outputs": [],
      "source": [
        "#Change this to your specific directory\n",
        "base_directory = '/content/drive/MyDrive'"
      ]
    },
    {
      "cell_type": "code",
      "execution_count": null,
      "metadata": {
        "id": "aXu46FPBiaE1"
      },
      "outputs": [],
      "source": [
        "folder_count, total_file_count, file_count_by_extension, file_count_by_folder = count_files_by_extension(base_directory)\n",
        "\n",
        "print(f'Total number of folders: {folder_count}')\n",
        "print(f'Total number of files: {total_file_count}')\n",
        "print('\\nFile count by extension:')\n",
        "for ext, count in file_count_by_extension.items():\n",
        "    print(f'{ext}: {count}')\n",
        "\n",
        "print('\\nFile count by folder:')\n",
        "for folder, counts in file_count_by_folder.items():\n",
        "    print(f'\\nFolder: {folder}')\n",
        "    for ext, count in counts.items():\n",
        "        print(f'  {ext}: {count}')"
      ]
    }
  ],
  "metadata": {
    "colab": {
      "provenance": []
    },
    "kernelspec": {
      "display_name": "Python 3",
      "name": "python3"
    },
    "language_info": {
      "name": "python"
    }
  },
  "nbformat": 4,
  "nbformat_minor": 0
}